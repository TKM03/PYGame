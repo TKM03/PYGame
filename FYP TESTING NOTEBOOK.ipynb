{
 "cells": [
  {
   "cell_type": "code",
   "execution_count": 15,
   "id": "22cc72a3",
   "metadata": {},
   "outputs": [
    {
     "data": {
      "text/plain": [
       "[{'score': 0.5658326745033264, 'label': 'Clapping'},\n",
       " {'score': 0.16685618460178375, 'label': 'Laughing'},\n",
       " {'score': 0.15308108925819397, 'label': 'Calling'},\n",
       " {'score': 0.033235300332307816, 'label': 'Dancing'},\n",
       " {'score': 0.031244589015841484, 'label': 'Texting'}]"
      ]
     },
     "execution_count": 15,
     "metadata": {},
     "output_type": "execute_result"
    }
   ],
   "source": [
    "from transformers import pipeline\n",
    "from PIL import Image\n",
    "import requests\n",
    "\n",
    "pipe = pipeline(\"image-classification\", \"rvv-karma/Human-Action-Recognition-VIT-Base-patch16-224\")\n",
    "url = \"https://encrypted-tbn0.gstatic.com/images?q=tbn:ANd9GcRIyhDKOYGWj1qTPVbPZEIS4KZAukvL_gDEqA&s\"\n",
    "image = Image.open(requests.get(url, stream=True).raw)\n",
    "pipe(image)"
   ]
  },
  {
   "cell_type": "code",
   "execution_count": null,
   "id": "4f741238",
   "metadata": {},
   "outputs": [],
   "source": []
  }
 ],
 "metadata": {
  "kernelspec": {
   "display_name": "Python 3 (ipykernel)",
   "language": "python",
   "name": "python3"
  },
  "language_info": {
   "codemirror_mode": {
    "name": "ipython",
    "version": 3
   },
   "file_extension": ".py",
   "mimetype": "text/x-python",
   "name": "python",
   "nbconvert_exporter": "python",
   "pygments_lexer": "ipython3",
   "version": "3.11.3"
  }
 },
 "nbformat": 4,
 "nbformat_minor": 5
}
