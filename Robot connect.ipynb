{
 "cells": [
  {
   "cell_type": "code",
   "execution_count": 10,
   "id": "69aa8653",
   "metadata": {},
   "outputs": [],
   "source": [
    "import sys\n",
    "sys.path.append(r\"C:/Users/kitmi/Downloads/pynaoqi-python2.7-2.8.6.23-win64-vs2015-20191127_152649/lib\")"
   ]
  },
  {
   "cell_type": "code",
   "execution_count": 11,
   "id": "5d0f4323",
   "metadata": {},
   "outputs": [
    {
     "ename": "SyntaxError",
     "evalue": "multiple exception types must be parenthesized (naoqi.py, line 220)",
     "output_type": "error",
     "traceback": [
      "Traceback \u001b[1;36m(most recent call last)\u001b[0m:\n",
      "\u001b[0m  File \u001b[0;32m~\\anaconda3\\Lib\\site-packages\\IPython\\core\\interactiveshell.py:3505\u001b[0m in \u001b[0;35mrun_code\u001b[0m\n    exec(code_obj, self.user_global_ns, self.user_ns)\u001b[0m\n",
      "\u001b[1;36m  Cell \u001b[1;32mIn[11], line 2\u001b[1;36m\n\u001b[1;33m    from naoqi import ALProxy\u001b[1;36m\n",
      "\u001b[1;36m  File \u001b[1;32mC:\\Users/kitmi/Downloads/pynaoqi-python2.7-2.8.6.23-win64-vs2015-20191127_152649/lib\\naoqi.py:220\u001b[1;36m\u001b[0m\n\u001b[1;33m    except RuntimeError,e:\u001b[0m\n\u001b[1;37m           ^\u001b[0m\n\u001b[1;31mSyntaxError\u001b[0m\u001b[1;31m:\u001b[0m multiple exception types must be parenthesized\n"
     ]
    }
   ],
   "source": [
    "# Step 1: Import required libraries\n",
    "from naoqi import ALProxy\n",
    "\n",
    "# Step 2: Define the robot's IP and port\n",
    "NAO_IP = \"192.168.1.100\"  # Replace with your NAO's IP address\n",
    "NAO_PORT = 9559           # Default port\n",
    "\n",
    "# Step 3: Function to connect to the robot and run a command\n",
    "def connect_to_nao_and_run():\n",
    "    try:\n",
    "        # Create proxies for text-to-speech and motion\n",
    "        tts = ALProxy(\"ALTextToSpeech\", NAO_IP, NAO_PORT)\n",
    "        motion = ALProxy(\"ALMotion\", NAO_IP, NAO_PORT)\n",
    "\n",
    "        # Example: Make NAO speak\n",
    "        tts.say(\"Hello! I am NAO.\")\n",
    "\n",
    "        # Example: Make NAO move its head\n",
    "        motion.setStiffnesses(\"Head\", 1.0)\n",
    "        motion.setAngles(\"HeadYaw\", 0.5, 0.2)  # Turn head to the right\n",
    "        motion.setAngles(\"HeadYaw\", -0.5, 0.2)  # Turn head to the left\n",
    "        motion.setStiffnesses(\"Head\", 0.0)\n",
    "\n",
    "        print(\"Function executed successfully.\")\n",
    "    except Exception as e:\n",
    "        print(f\"An error occurred: {e}\")\n",
    "\n",
    "# Step 4: Run the function\n",
    "connect_to_nao_and_run()\n"
   ]
  },
  {
   "cell_type": "code",
   "execution_count": null,
   "id": "92652e3d",
   "metadata": {},
   "outputs": [],
   "source": []
  }
 ],
 "metadata": {
  "kernelspec": {
   "display_name": "Python 3 (ipykernel)",
   "language": "python",
   "name": "python3"
  },
  "language_info": {
   "codemirror_mode": {
    "name": "ipython",
    "version": 3
   },
   "file_extension": ".py",
   "mimetype": "text/x-python",
   "name": "python",
   "nbconvert_exporter": "python",
   "pygments_lexer": "ipython3",
   "version": "3.11.3"
  }
 },
 "nbformat": 4,
 "nbformat_minor": 5
}
